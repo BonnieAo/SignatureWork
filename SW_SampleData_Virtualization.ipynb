{
  "nbformat": 4,
  "nbformat_minor": 0,
  "metadata": {
    "colab": {
      "name": "SW_SampleData_Virtualization.ipynb",
      "private_outputs": true,
      "provenance": [],
      "include_colab_link": true
    },
    "kernelspec": {
      "name": "python3",
      "display_name": "Python 3"
    }
  },
  "cells": [
    {
      "cell_type": "markdown",
      "metadata": {
        "id": "view-in-github",
        "colab_type": "text"
      },
      "source": [
        "<a href=\"https://colab.research.google.com/github/BonnieAo/SignatureWork/blob/main/SW_SampleData_Virtualization.ipynb\" target=\"_parent\"><img src=\"https://colab.research.google.com/assets/colab-badge.svg\" alt=\"Open In Colab\"/></a>"
      ]
    },
    {
      "cell_type": "markdown",
      "metadata": {
        "id": "TB0sNYDCJ0M0"
      },
      "source": [
        "# Step 1: Data Wrangling"
      ]
    },
    {
      "cell_type": "markdown",
      "metadata": {
        "id": "Y4v6bse-nDGV"
      },
      "source": [
        "SQL code for data querying on Google BigQuery:\n",
        "\n",
        "Contract data:\n",
        "\n",
        "\"SELECT address,is_erc20,is_erc721,block_timestamp,block_number,block_hash \n",
        "\n",
        "FROM `bigquery-public-data.crypto_ethereum.contracts` \n",
        "\n",
        "ORDER BY block_timestamp DESC\"\n",
        "\n",
        "Transaction data:\n",
        "\n",
        "\"SELECT receipt_contract_address, nonce,from_address, to_address, value, gas, gas_price, receipt_cumulative_gas_used,receipt_gas_used,receipt_status,block_timestamp \n",
        "\n",
        "FROM `bigquery-public-data.crypto_ethereum.transactions` \n",
        "\n",
        "WHERE receipt_contract_address IS NOT NULL\n",
        "\n",
        "ORDER BY block_timestamp DESC\"\n",
        "\n"
      ]
    },
    {
      "cell_type": "code",
      "metadata": {
        "id": "fIsslb8YINKh"
      },
      "source": [
        "import pandas as pd \r\n",
        "import numpy as np\r\n",
        "from sklearn.tree import DecisionTreeClassifier # Import Decision Tree Classifier\r\n",
        "from sklearn import metrics \r\n",
        "import matplotlib.pyplot as plt"
      ],
      "execution_count": null,
      "outputs": []
    },
    {
      "cell_type": "code",
      "metadata": {
        "id": "qTM-a9GZIWRL"
      },
      "source": [
        "###show all columns\r\n",
        "pd.set_option('display.max_columns', None)\r\n",
        "pd.set_option('display.max_rows', None)"
      ],
      "execution_count": null,
      "outputs": []
    },
    {
      "cell_type": "markdown",
      "metadata": {
        "id": "NRgaqBwOnBaq"
      },
      "source": [
        ""
      ]
    },
    {
      "cell_type": "code",
      "metadata": {
        "id": "ZH8NDdVFImVZ"
      },
      "source": [
        "transaction=pd.read_csv('https://raw.githubusercontent.com/BonnieAo/SignatureWork/main/transaction_contractcreated_16000.csv')\r\n",
        "transaction[\"contract_address\"] = transaction['receipt_contract_address']\r\n",
        "transaction.head()"
      ],
      "execution_count": null,
      "outputs": []
    },
    {
      "cell_type": "code",
      "metadata": {
        "id": "I8SKBGkQI8vx"
      },
      "source": [
        "contract=pd.read_csv('https://raw.githubusercontent.com/BonnieAo/SignatureWork/main/contract_latest_16000.csv')\r\n",
        "contract['contract_address'] = contract[\"address\"]\r\n",
        "contract.head()"
      ],
      "execution_count": null,
      "outputs": []
    },
    {
      "cell_type": "markdown",
      "metadata": {
        "id": "WXfdY-ZcJ3pu"
      },
      "source": [
        "# Transaction Data Virtualization"
      ]
    },
    {
      "cell_type": "code",
      "metadata": {
        "id": "DMVcRSaPoCFw"
      },
      "source": [
        "#Show the proportion of receipt status (success/failure)\n",
        "import matplotlib.pyplot as plt\n",
        "labels = ['success','failure']\n",
        "success = (len(transaction[transaction['receipt_status']==1])/len(transaction))*100\n",
        "failure = 100-success\n",
        "x = [success,failure]\n",
        "explode = (0,0.1) \n",
        "pie = plt.pie(x,explode= explode,labels=labels,autopct='%3.2f%%')\n",
        "plt.axis('equal')\n",
        "plt.show()"
      ],
      "execution_count": null,
      "outputs": []
    },
    {
      "cell_type": "code",
      "metadata": {
        "id": "Ch9KDctHJwMk"
      },
      "source": [
        "#Show the distribution of gas provided by the sender\r\n",
        "plt.hist(transaction[\"gas\"],10,histtype='stepfilled',facecolor='b',alpha=0.75) \r\n",
        "plt.title('Histogram of gas provided by the sender') \r\n",
        "plt.show()"
      ],
      "execution_count": null,
      "outputs": []
    },
    {
      "cell_type": "code",
      "metadata": {
        "id": "4M83RDrL0_3a"
      },
      "source": [
        "#Show the distribution of gas price provided by the sender in Wei\r\n",
        "plt.hist(transaction[\"gas_price\"],10,histtype='stepfilled',facecolor='b',alpha=0.75) \r\n",
        "plt.title('Histogram of gas price provided by the sender') \r\n",
        "plt.show()"
      ],
      "execution_count": null,
      "outputs": []
    },
    {
      "cell_type": "code",
      "metadata": {
        "id": "WOLizCoIo73K"
      },
      "source": [
        "#Show the distribution of gas used when the trsnsaction is excuted in the block\n",
        "plt.hist(transaction[\"receipt_cumulative_gas_used\"],10,histtype='stepfilled',facecolor='b',alpha=0.75) \n",
        "plt.title('Histogram of gas used when the trsnsaction is excuted in the block') \n",
        "plt.show()"
      ],
      "execution_count": null,
      "outputs": []
    },
    {
      "cell_type": "code",
      "metadata": {
        "id": "BMOuDRkcpL8T"
      },
      "source": [
        "#Show the distribution of gas used by this specific transaction alone\n",
        "plt.hist(transaction[\"receipt_gas_used\"],10,histtype='stepfilled',facecolor='b',alpha=0.75) \n",
        "plt.title('Histogram of gas used by this specific transaction alone') \n",
        "plt.show()"
      ],
      "execution_count": null,
      "outputs": []
    },
    {
      "cell_type": "markdown",
      "metadata": {
        "id": "dMD_Dm0JqRw7"
      },
      "source": [
        "# Contract Data Virtualization"
      ]
    },
    {
      "cell_type": "code",
      "metadata": {
        "id": "oQgsync1qoyl"
      },
      "source": [
        "#Count the number of contract address in this sample data\n",
        "grouped_contract_address = contract.groupby(contract['contract_address'])\n",
        "len(grouped_contract_address)"
      ],
      "execution_count": null,
      "outputs": []
    },
    {
      "cell_type": "markdown",
      "metadata": {
        "id": "zjQCnZEKrEzr"
      },
      "source": [
        "# Contract & Transaction Data Merge"
      ]
    },
    {
      "cell_type": "code",
      "metadata": {
        "id": "VbSJmMNCrKGn"
      },
      "source": [
        "df = pd.merge(transaction,contract,how='inner',on=\"contract_address\")\n",
        "df.head()"
      ],
      "execution_count": null,
      "outputs": []
    },
    {
      "cell_type": "code",
      "metadata": {
        "id": "xXeD8XQErRnH"
      },
      "source": [
        "#Count the number of rows in this merged data\n",
        "len(df)"
      ],
      "execution_count": null,
      "outputs": []
    },
    {
      "cell_type": "code",
      "metadata": {
        "id": "9fDjVO7Upc1T"
      },
      "source": [
        "#Show the scatter plot of receipt_cumulative_gas_used vs. receipt_gas_used\n",
        "plt.scatter(df['receipt_cumulative_gas_used'],df['receipt_gas_used'])\n",
        "plt.title(\"receipt_cumulative_gas_used vs. receipt_gas_used\")\n",
        "plt.show()"
      ],
      "execution_count": null,
      "outputs": []
    },
    {
      "cell_type": "code",
      "metadata": {
        "id": "cliGo7ZKLKr5"
      },
      "source": [
        ""
      ],
      "execution_count": null,
      "outputs": []
    }
  ]
}